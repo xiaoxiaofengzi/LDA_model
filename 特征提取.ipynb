{
 "cells": [
  {
   "cell_type": "code",
   "execution_count": 3,
   "metadata": {
    "collapsed": true
   },
   "outputs": [],
   "source": [
    "import numpy as np\n",
    "from numpy import linalg as la\n",
    "from numpy import mat"
   ]
  },
  {
   "cell_type": "code",
   "execution_count": 4,
   "metadata": {
    "collapsed": false
   },
   "outputs": [],
   "source": [
    "A = mat([[1,2,3],[4,5,6]])"
   ]
  },
  {
   "cell_type": "code",
   "execution_count": 6,
   "metadata": {
    "collapsed": false
   },
   "outputs": [],
   "source": [
    "U,sigma,VT = la.svd(A)"
   ]
  },
  {
   "cell_type": "code",
   "execution_count": 7,
   "metadata": {
    "collapsed": false
   },
   "outputs": [
    {
     "data": {
      "text/plain": [
       "matrix([[-0.3863177 , -0.92236578],\n",
       "        [-0.92236578,  0.3863177 ]])"
      ]
     },
     "execution_count": 7,
     "metadata": {},
     "output_type": "execute_result"
    }
   ],
   "source": [
    "U"
   ]
  },
  {
   "cell_type": "code",
   "execution_count": 8,
   "metadata": {
    "collapsed": false
   },
   "outputs": [
    {
     "data": {
      "text/plain": [
       "array([ 9.508032  ,  0.77286964])"
      ]
     },
     "execution_count": 8,
     "metadata": {},
     "output_type": "execute_result"
    }
   ],
   "source": [
    "sigma"
   ]
  },
  {
   "cell_type": "code",
   "execution_count": 9,
   "metadata": {
    "collapsed": false
   },
   "outputs": [
    {
     "data": {
      "text/plain": [
       "matrix([[-0.42866713, -0.56630692, -0.7039467 ],\n",
       "        [ 0.80596391,  0.11238241, -0.58119908],\n",
       "        [ 0.40824829, -0.81649658,  0.40824829]])"
      ]
     },
     "execution_count": 9,
     "metadata": {},
     "output_type": "execute_result"
    }
   ],
   "source": [
    "VT"
   ]
  },
  {
   "cell_type": "code",
   "execution_count": 10,
   "metadata": {
    "collapsed": true
   },
   "outputs": [],
   "source": [
    "B = mat([[-0.44,-0.3,0.57,0.58,0.25],[-0.13,-0.33,-0.59,0,0.73],[-0.48,-0.51,-0.37,0,-0.61],\n",
    "        [-0.70,0.35,0.15,-0.58,0.16],[-0.26,0.65,-0.41,0.58,-0.09]])"
   ]
  },
  {
   "cell_type": "code",
   "execution_count": 11,
   "metadata": {
    "collapsed": false
   },
   "outputs": [
    {
     "data": {
      "text/plain": [
       "matrix([[-0.44, -0.3 ,  0.57,  0.58,  0.25],\n",
       "        [-0.13, -0.33, -0.59,  0.  ,  0.73],\n",
       "        [-0.48, -0.51, -0.37,  0.  , -0.61],\n",
       "        [-0.7 ,  0.35,  0.15, -0.58,  0.16],\n",
       "        [-0.26,  0.65, -0.41,  0.58, -0.09]])"
      ]
     },
     "execution_count": 11,
     "metadata": {},
     "output_type": "execute_result"
    }
   ],
   "source": [
    "B"
   ]
  },
  {
   "cell_type": "code",
   "execution_count": 12,
   "metadata": {
    "collapsed": true
   },
   "outputs": [],
   "source": [
    "U,sigma,VT = la.svd(B)"
   ]
  },
  {
   "cell_type": "code",
   "execution_count": 13,
   "metadata": {
    "collapsed": false
   },
   "outputs": [
    {
     "data": {
      "text/plain": [
       "array([ 1.00645824,  1.00572336,  1.00065199,  0.99882106,  0.99499467])"
      ]
     },
     "execution_count": 13,
     "metadata": {},
     "output_type": "execute_result"
    }
   ],
   "source": [
    "sigma"
   ]
  },
  {
   "cell_type": "code",
   "execution_count": 19,
   "metadata": {
    "collapsed": true
   },
   "outputs": [],
   "source": [
    "C = mat([[1,0,1,0,0],[0,1,0,0,0],[1,1,0,0,0],[1,0,0,1,1],[0,0,0,1,0]])"
   ]
  },
  {
   "cell_type": "code",
   "execution_count": 20,
   "metadata": {
    "collapsed": true
   },
   "outputs": [],
   "source": [
    "U_C,sigma_C,VT_C = la.svd(C)"
   ]
  },
  {
   "cell_type": "code",
   "execution_count": 21,
   "metadata": {
    "collapsed": false
   },
   "outputs": [
    {
     "data": {
      "text/plain": [
       "array([ 2.15066649,  1.50487451,  1.22088407,  0.69874897,  0.36218548])"
      ]
     },
     "execution_count": 21,
     "metadata": {},
     "output_type": "execute_result"
    }
   ],
   "source": [
    "sigma_C"
   ]
  },
  {
   "cell_type": "code",
   "execution_count": 22,
   "metadata": {
    "collapsed": false
   },
   "outputs": [
    {
     "data": {
      "text/plain": [
       "matrix([[-0.45536179,  0.21336928, -0.76496969, -0.35231975, -0.19445141],\n",
       "        [-0.13594788,  0.45022881,  0.49418646, -0.2442713 , -0.68914692],\n",
       "        [-0.49286086,  0.56938065,  0.24242708,  0.12500581,  0.59874578],\n",
       "        [-0.70263065, -0.51291304,  0.14728067,  0.40761354, -0.23535076],\n",
       "        [-0.19380956, -0.40557794,  0.30023096, -0.79650931,  0.270885  ]])"
      ]
     },
     "execution_count": 22,
     "metadata": {},
     "output_type": "execute_result"
    }
   ],
   "source": [
    "U_C"
   ]
  },
  {
   "cell_type": "code",
   "execution_count": 23,
   "metadata": {
    "collapsed": false
   },
   "outputs": [
    {
     "data": {
      "text/plain": [
       "matrix([[-0.7676008 , -0.29237855, -0.21173055, -0.41681973, -0.32670368],\n",
       "        [ 0.17930856,  0.67753786,  0.14178543, -0.6103439 , -0.34083443],\n",
       "        [-0.30736902,  0.60334438, -0.62657029,  0.3665472 ,  0.12063445],\n",
       "        [ 0.25803199, -0.17068432, -0.50421506, -0.55656006,  0.58334761],\n",
       "        [ 0.46645604, -0.24959901, -0.53688351,  0.09811061, -0.64980728]])"
      ]
     },
     "execution_count": 23,
     "metadata": {},
     "output_type": "execute_result"
    }
   ],
   "source": [
    "VT_C"
   ]
  },
  {
   "cell_type": "code",
   "execution_count": 24,
   "metadata": {
    "collapsed": true
   },
   "outputs": [],
   "source": [
    "D = mat([[1,0,1,1,0],[0,1,1,0,0],[1,0,0,0,0],[0,0,0,1,1],[0,0,0,1,0]])"
   ]
  },
  {
   "cell_type": "code",
   "execution_count": 25,
   "metadata": {
    "collapsed": true
   },
   "outputs": [],
   "source": [
    "U_D,sigma_D,VT_D = la.svd(D)"
   ]
  },
  {
   "cell_type": "code",
   "execution_count": 26,
   "metadata": {
    "collapsed": false
   },
   "outputs": [
    {
     "data": {
      "text/plain": [
       "matrix([[-0.7676008 ,  0.17930856, -0.30736902, -0.25803199, -0.46645604],\n",
       "        [-0.29237855,  0.67753786,  0.60334438,  0.17068432,  0.24959901],\n",
       "        [-0.21173055,  0.14178543, -0.62657029,  0.50421506,  0.53688351],\n",
       "        [-0.41681973, -0.6103439 ,  0.3665472 ,  0.55656006, -0.09811061],\n",
       "        [-0.32670368, -0.34083443,  0.12063445, -0.58334761,  0.64980728]])"
      ]
     },
     "execution_count": 26,
     "metadata": {},
     "output_type": "execute_result"
    }
   ],
   "source": [
    "U_D"
   ]
  },
  {
   "cell_type": "code",
   "execution_count": 27,
   "metadata": {
    "collapsed": false
   },
   "outputs": [
    {
     "data": {
      "text/plain": [
       "matrix([[-0.45536179, -0.13594788, -0.49286086, -0.70263065, -0.19380956],\n",
       "        [ 0.21336928,  0.45022881,  0.56938065, -0.51291304, -0.40557794],\n",
       "        [-0.76496969,  0.49418646,  0.24242708,  0.14728067,  0.30023096],\n",
       "        [ 0.35231975,  0.2442713 , -0.12500581, -0.40761354,  0.79650931],\n",
       "        [ 0.19445141,  0.68914692, -0.59874578,  0.23535076, -0.270885  ]])"
      ]
     },
     "execution_count": 27,
     "metadata": {},
     "output_type": "execute_result"
    }
   ],
   "source": [
    "VT_D"
   ]
  },
  {
   "cell_type": "code",
   "execution_count": 28,
   "metadata": {
    "collapsed": false
   },
   "outputs": [
    {
     "data": {
      "text/plain": [
       "array([ 2.15066649,  1.50487451,  1.22088407,  0.69874897,  0.36218548])"
      ]
     },
     "execution_count": 28,
     "metadata": {},
     "output_type": "execute_result"
    }
   ],
   "source": [
    "sigma_D"
   ]
  },
  {
   "cell_type": "code",
   "execution_count": null,
   "metadata": {
    "collapsed": true
   },
   "outputs": [],
   "source": []
  }
 ],
 "metadata": {
  "kernelspec": {
   "display_name": "Python 3",
   "language": "python",
   "name": "python3"
  },
  "language_info": {
   "codemirror_mode": {
    "name": "ipython",
    "version": 3
   },
   "file_extension": ".py",
   "mimetype": "text/x-python",
   "name": "python",
   "nbconvert_exporter": "python",
   "pygments_lexer": "ipython3",
   "version": "3.6.0"
  }
 },
 "nbformat": 4,
 "nbformat_minor": 2
}
