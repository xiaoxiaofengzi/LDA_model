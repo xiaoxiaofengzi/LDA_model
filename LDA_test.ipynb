{
 "cells": [
  {
   "cell_type": "code",
   "execution_count": 1,
   "metadata": {
    "collapsed": false
   },
   "outputs": [],
   "source": [
    "#-*- coding:utf-8 -*-  \n",
    "import logging  \n",
    "import logging.config  \n",
    "import configparser  \n",
    "import numpy as np  \n",
    "import random  \n",
    "import codecs  \n",
    "import os  \n",
    "import pandas as pd\n",
    "import jieba.analyse\n",
    "import re\n",
    "import random\n",
    "import time\n",
    "from collections import OrderedDict "
   ]
  },
  {
   "cell_type": "code",
   "execution_count": 2,
   "metadata": {
    "collapsed": false
   },
   "outputs": [],
   "source": [
    "logging.basicConfig(level=logging.INFO)\n",
    "logger = logging.getLogger(\"LDA module\")\n",
    "formatter = logging.Formatter(\"%(asctime)s - %(name)s - %(levelname)s - %(message)s\")\n",
    "formatter1 = logging.Formatter(\"%(asctime)s - %(levelname)s - %(message)s\")\n",
    "logger.setLevel(logging.DEBUG)\n",
    "ch = logging.StreamHandler()\n",
    "ch.setLevel(logging.ERROR)\n",
    "logger.addHandler(ch)\n",
    "fh = logging.FileHandler(\"log/LDA_log.txt\",encoding = 'utf-8')\n",
    "fh.setLevel(logging.INFO)\n",
    "logger.addHandler(fh)\n",
    "ch.setFormatter(formatter1)\n",
    "fh.setFormatter(formatter)\n"
   ]
  },
  {
   "cell_type": "code",
   "execution_count": 3,
   "metadata": {
    "collapsed": true
   },
   "outputs": [],
   "source": [
    "pd.set_option('max_colwidth',100000)\n",
    "# jieba.analyse.set_stop_words(\"data/stopwords.txt\")"
   ]
  },
  {
   "cell_type": "code",
   "execution_count": 4,
   "metadata": {
    "collapsed": true
   },
   "outputs": [],
   "source": [
    "def stopwordslist(filepath):  \n",
    "    stopwords = [line.strip() for line in open(filepath, 'r', encoding='utf-8').readlines()]  \n",
    "    return stopwords"
   ]
  },
  {
   "cell_type": "code",
   "execution_count": 5,
   "metadata": {
    "collapsed": true
   },
   "outputs": [],
   "source": [
    "def seg_sentence(sentence):  \n",
    "    sentence_seged = jieba.cut(sentence.strip())  \n",
    "    stopwords = stopwordslist('data/stopwords.txt')  # 这里加载停用词的路径  \n",
    "    outstr = ''  \n",
    "    for word in sentence_seged:  \n",
    "        if word not in stopwords:  \n",
    "            if word != '\\t':  \n",
    "                outstr += word  \n",
    "                outstr += \" \"  \n",
    "    return outstr  "
   ]
  },
  {
   "cell_type": "code",
   "execution_count": 6,
   "metadata": {
    "collapsed": false
   },
   "outputs": [
    {
     "data": {
      "text/plain": [
       "['tool/setting.conf']"
      ]
     },
     "execution_count": 6,
     "metadata": {},
     "output_type": "execute_result"
    }
   ],
   "source": [
    "path = os.getcwd()\n",
    "conf = configparser.ConfigParser()  \n",
    "conf.read(\"tool/setting.conf\")  "
   ]
  },
  {
   "cell_type": "code",
   "execution_count": 7,
   "metadata": {
    "collapsed": false
   },
   "outputs": [],
   "source": [
    "#文件路径  \n",
    "trainfile = os.path.join(path,os.path.normpath(conf.get(\"filepath\", \"trainfile\")))  \n",
    "wordidmapfile = os.path.join(path,os.path.normpath(conf.get(\"filepath\",\"wordidmapfile\")))  \n",
    "thetafile = os.path.join(path,os.path.normpath(conf.get(\"filepath\",\"thetafile\")))  \n",
    "phifile = os.path.join(path,os.path.normpath(conf.get(\"filepath\",\"phifile\")))  \n",
    "paramfile = os.path.join(path,os.path.normpath(conf.get(\"filepath\",\"paramfile\")))  \n",
    "topNfile = os.path.join(path,os.path.normpath(conf.get(\"filepath\",\"topNfile\")))  \n",
    "tassginfile = os.path.join(path,os.path.normpath(conf.get(\"filepath\",\"tassginfile\")))"
   ]
  },
  {
   "cell_type": "code",
   "execution_count": 8,
   "metadata": {
    "collapsed": true
   },
   "outputs": [],
   "source": [
    "#模型初始参数  \n",
    "K = int(conf.get(\"model_args\",\"K\"))  \n",
    "alpha = float(conf.get(\"model_args\",\"alpha\"))  \n",
    "beta = float(conf.get(\"model_args\",\"beta\"))  \n",
    "iter_times = int(conf.get(\"model_args\",\"iter_times\"))  \n",
    "top_words_num = int(conf.get(\"model_args\",\"top_words_num\"))  "
   ]
  },
  {
   "cell_type": "code",
   "execution_count": 15,
   "metadata": {
    "collapsed": true
   },
   "outputs": [],
   "source": [
    "class Document(object):  \n",
    "    def __init__(self):  \n",
    "        self.words = []  \n",
    "        self.length = 0  "
   ]
  },
  {
   "cell_type": "code",
   "execution_count": 9,
   "metadata": {
    "collapsed": false
   },
   "outputs": [
    {
     "data": {
      "text/plain": [
       "0.1"
      ]
     },
     "execution_count": 9,
     "metadata": {},
     "output_type": "execute_result"
    }
   ],
   "source": [
    "alpha"
   ]
  },
  {
   "cell_type": "code",
   "execution_count": 10,
   "metadata": {
    "collapsed": true
   },
   "outputs": [],
   "source": [
    "#把整个文档及真的单词构成vocabulary（不允许重复）  \n",
    "class DataPreProcessing(object):  \n",
    "    def __init__(self):  \n",
    "        self.docs_count = 0  \n",
    "        self.words_count = 0  \n",
    "        #保存每个文档d的信息(单词序列，以及length)  \n",
    "        self.docs = []  \n",
    "        #建立vocabulary表，照片文档的单词  \n",
    "        self.word2id = OrderedDict()  \n",
    "    def cachewordidmap(self):  \n",
    "        with codecs.open(wordidmapfile, 'w','utf-8') as f:  \n",
    "            for word,id in self.word2id.items():  \n",
    "                f.write(word +\"\\t\"+str(id)+\"\\n\")  "
   ]
  },
  {
   "cell_type": "code",
   "execution_count": 11,
   "metadata": {
    "collapsed": false
   },
   "outputs": [],
   "source": [
    "class LDAModel(object):  \n",
    "    def __init__(self,dpre):  \n",
    "        self.dpre = dpre #获取预处理参数  \n",
    "        #  \n",
    "        #模型参数  \n",
    "        #聚类个数K，迭代次数iter_times,每个类特征词个数top_words_num,超参数α（alpha） β(beta)  \n",
    "        #  \n",
    "        self.K = K  \n",
    "        self.beta = beta  \n",
    "        self.alpha = alpha  \n",
    "        self.iter_times = iter_times  \n",
    "        self.top_words_num = top_words_num   \n",
    "        #  \n",
    "        #文件变量  \n",
    "        #分好词的文件trainfile  \n",
    "        #词对应id文件wordidmapfile  \n",
    "        #文章-主题分布文件thetafile  \n",
    "        #词-主题分布文件phifile  \n",
    "        #每个主题topN词文件topNfile  \n",
    "        #最后分派结果文件tassginfile  \n",
    "        #模型训练选择的参数文件paramfile  \n",
    "        #  \n",
    "        self.wordidmapfile = wordidmapfile  \n",
    "        self.trainfile = trainfile  \n",
    "        self.thetafile = thetafile  \n",
    "        self.phifile = phifile  \n",
    "        self.topNfile = topNfile  \n",
    "        self.tassginfile = tassginfile  \n",
    "        self.paramfile = paramfile  \n",
    "        # p,概率向量 double类型，存储采样的临时变量  \n",
    "        # nw,词word在主题topic上的分布  \n",
    "        # nwsum,每各topic的词的总数  \n",
    "        # nd,每个doc中各个topic的词的总数  \n",
    "        # ndsum,每各doc中词的总数  \n",
    "        self.p = np.zeros(self.K)  \n",
    "        # nw,词word在主题topic上的分布  \n",
    "        self.nw = np.zeros((self.dpre.words_count,self.K),dtype=\"int\")  \n",
    "        # nwsum,每各topic的词的总数  \n",
    "        self.nwsum = np.zeros(self.K,dtype=\"int\")  \n",
    "        # nd,每个doc中各个topic的词的总数  \n",
    "        self.nd = np.zeros((self.dpre.docs_count,self.K),dtype=\"int\")  \n",
    "        # ndsum,每各doc中词的总数  \n",
    "        self.ndsum = np.zeros(dpre.docs_count,dtype=\"int\")  \n",
    "        self.Z = np.array([ [0 for y in range(dpre.docs[x].length)] for x in range(dpre.docs_count)])        # M*doc.size()，文档中词的主题分布  \n",
    "  \n",
    "        #随机先分配类型，为每个文档中的各个单词分配主题  \n",
    "        for x in range(len(self.Z)):  \n",
    "            self.ndsum[x] = self.dpre.docs[x].length  \n",
    "            for y in range(self.dpre.docs[x].length):  \n",
    "                topic = random.randint(0,self.K-1)#随机取一个主题  \n",
    "                self.Z[x][y] = topic#文档中词的主题分布  \n",
    "                self.nw[self.dpre.docs[x].words[y]][topic] += 1  \n",
    "                self.nd[x][topic] += 1  \n",
    "                self.nwsum[topic] += 1  \n",
    "  \n",
    "        self.theta = np.array([ [0.0 for y in range(self.K)] for x in range(self.dpre.docs_count) ])  \n",
    "        self.phi = np.array([ [ 0.0 for y in range(self.dpre.words_count) ] for x in range(self.K)])   \n",
    "    def sampling(self,i,j):  \n",
    "        #换主题  \n",
    "        topic = self.Z[i][j]  \n",
    "        #只是单词的编号，都是从0开始word就是等于j  \n",
    "        word = self.dpre.docs[i].words[j]  \n",
    "        #if word==j:  \n",
    "        #    print 'true'  \n",
    "        self.nw[word][topic] -= 1  \n",
    "        self.nd[i][topic] -= 1  \n",
    "        self.nwsum[topic] -= 1  \n",
    "        self.ndsum[i] -= 1  \n",
    "  \n",
    "        Vbeta = self.dpre.words_count * self.beta  \n",
    "        Kalpha = self.K * self.alpha  \n",
    "        self.p = (self.nw[word] + self.beta)/(self.nwsum + Vbeta) * (self.nd[i] + self.alpha) / (self.ndsum[i] + Kalpha)  \n",
    "  \n",
    "        #随机更新主题的吗  \n",
    "        # for k in range(1,self.K):  \n",
    "        #     self.p[k] += self.p[k-1]  \n",
    "        # u = random.uniform(0,self.p[self.K-1])  \n",
    "        # for topic in range(self.K):  \n",
    "        #     if self.p[topic]>u:  \n",
    "        #         break  \n",
    "  \n",
    "        #按这个更新主题更好理解，这个效果还不错  \n",
    "        p = np.squeeze(np.asarray(self.p/np.sum(self.p)))  \n",
    "        topic = np.argmax(np.random.multinomial(1, p))  \n",
    "  \n",
    "        self.nw[word][topic] +=1  \n",
    "        self.nwsum[topic] +=1  \n",
    "        self.nd[i][topic] +=1  \n",
    "        self.ndsum[i] +=1  \n",
    "        return topic  \n",
    "    def est(self,text_id):  \n",
    "        # Consolelogger.info(u\"迭代次数为%s 次\" % self.iter_times)  \n",
    "        for x in range(self.iter_times):  \n",
    "            for i in range(self.dpre.docs_count):  \n",
    "                for j in range(self.dpre.docs[i].length):  \n",
    "                    topic = self.sampling(i,j)  \n",
    "                    self.Z[i][j] = topic            \n",
    "            logger.debug(u\"计算文章-主题分布\")  \n",
    "            self._theta()  \n",
    "            logger.debug(u\"计算词-主题分布\")  \n",
    "            self._phi()  \n",
    "        logger.info(u\"迭代完成。\")\n",
    "        logger.debug(u\"保存模型\")  \n",
    "        self.save(text_id)  \n",
    "    def _theta(self):  \n",
    "        for i in range(self.dpre.docs_count):#遍历文档的个数词  \n",
    "            self.theta[i] = (self.nd[i]+self.alpha)/(self.ndsum[i]+self.K * self.alpha)  \n",
    "    def _phi(self):  \n",
    "        for i in range(self.K):  \n",
    "            self.phi[i] = (self.nw.T[i] + self.beta)/(self.nwsum[i]+self.dpre.words_count * self.beta)  \n",
    "    def save(self,text_id):  \n",
    "        # 保存theta文章-主题分布  \n",
    "        logger.info(u\"文章-主题分布已保存到%s\" % self.thetafile)  \n",
    "        text_count = 0\n",
    "        with codecs.open(self.thetafile,'w','utf-8') as f:  \n",
    "            for x in range(self.dpre.docs_count):  \n",
    "                f.write(str(text_id[text_count])+'\\t\\t')\n",
    "                text_count += 1\n",
    "                for y in range(self.K):  \n",
    "                    f.write(str(self.theta[x][y]) + '\\t')  \n",
    "                f.write('\\n')  \n",
    "        # 保存phi词-主题分布  \n",
    "        logger.info(u\"词-主题分布已保存到%s\" % self.phifile)  \n",
    "        with codecs.open(self.phifile,'w') as f:  \n",
    "            for x in range(self.K):  \n",
    "                for y in range(self.dpre.words_count):  \n",
    "                    f.write(str(self.phi[x][y]) + '\\t')  \n",
    "                f.write('\\n')  \n",
    "        # 保存参数设置  \n",
    "        logger.info(u\"参数设置已保存到%s\" % self.paramfile)  \n",
    "        with codecs.open(self.paramfile,'w','utf-8') as f:  \n",
    "            f.write('K=' + str(self.K) + '\\n')  \n",
    "            f.write('alpha=' + str(self.alpha) + '\\n')  \n",
    "            f.write('beta=' + str(self.beta) + '\\n')  \n",
    "            f.write(u'迭代次数  iter_times=' + str(self.iter_times) + '\\n')  \n",
    "            f.write(u'每个类的高频词显示个数  top_words_num=' + str(self.top_words_num) + '\\n')  \n",
    "        # 保存每个主题topic的词  \n",
    "        logger.info(u\"主题topN词已保存到%s\" % self.topNfile)  \n",
    "  \n",
    "        with codecs.open(self.topNfile,'w','utf-8') as f:  \n",
    "            self.top_words_num = min(self.top_words_num,self.dpre.words_count)  \n",
    "            for x in range(self.K):  \n",
    "                f.write(u'第' + str(x) + u'类：' + '\\n')  \n",
    "                twords = []  \n",
    "                twords = [(n,self.phi[x][n]) for n in range(self.dpre.words_count)]  \n",
    "                twords.sort(key = lambda i:i[1], reverse= True)  \n",
    "                for y in range(self.top_words_num):  \n",
    "                    word = OrderedDict({value:key for key, value in self.dpre.word2id.items()})[twords[y][0]]  \n",
    "                    f.write('\\t'*2+ word +'\\t' + str(twords[y][1])+ '\\n')  \n",
    "        # 保存最后退出时，文章的词分派的主题的结果  \n",
    "        logger.info(u\"文章-词-主题分派结果已保存到%s\" % self.tassginfile)  \n",
    "        with codecs.open(self.tassginfile,'w') as f:  \n",
    "            for x in range(self.dpre.docs_count):  \n",
    "                for y in range(self.dpre.docs[x].length):  \n",
    "                    f.write(str(self.dpre.docs[x].words[y])+':'+str(self.Z[x][y])+ '\\t')  \n",
    "                f.write('\\n')  \n",
    "        logger.info(u\"模型训练完成。\")  "
   ]
  },
  {
   "cell_type": "code",
   "execution_count": 12,
   "metadata": {
    "collapsed": true
   },
   "outputs": [],
   "source": [
    "def preprocessing():  \n",
    "    logger.info(u'载入数据......')  \n",
    "    with codecs.open(trainfile, 'r','utf-8') as f:  \n",
    "        docs = f.readlines()  \n",
    "#     print('docs is ',docs)\n",
    "    logger.debug(u\"载入完成,准备生成字典对象和统计文本数据...\")  \n",
    "    # 大的文档集  \n",
    "    dpre = DataPreProcessing()  \n",
    "    items_idx = 0  \n",
    "    text_id=[]\n",
    "    for line in docs:  \n",
    "        text_list = line.strip().split(\"\\t\\t\")\n",
    "#         print(\"text_list is\",text_list)\n",
    "        if len(text_list) > 1:  \n",
    "            text_id.append(text_list[0])        \n",
    "            key_list = jieba.analyse.extract_tags(text_list[1], 30)\n",
    "            tmp = []\n",
    "            for i in key_list:\n",
    "                if i not in stopwordslist('data/stopwords.txt'):\n",
    "                    tmp.append(i)\n",
    "#             tmp = line.strip().split()  \n",
    "#             print(\"tmp is \",tmp)\n",
    "            # 生成一个文档对象：包含单词序列（w1,w2,w3,,,,,wn）可以重复的  \n",
    "            doc = Document()  \n",
    "            for item in tmp:  \n",
    "                if item in dpre.word2id:# 已有的话，只是当前文档追加  \n",
    "                    doc.words.append(dpre.word2id[item])  \n",
    "                else:  # 没有的话，要更新vocabulary中的单词词典及wordidmap  \n",
    "                    dpre.word2id[item] = items_idx  \n",
    "                    doc.words.append(items_idx)  \n",
    "                    items_idx += 1  \n",
    "            doc.length = len(tmp)  \n",
    "            dpre.docs.append(doc)  \n",
    "        else:  \n",
    "            pass  \n",
    "    dpre.docs_count = len(dpre.docs) # 文档数  \n",
    "    dpre.words_count = len(dpre.word2id) # 词汇数  \n",
    "    logger.info(u\"共有%s个文档\" % dpre.docs_count)  \n",
    "    dpre.cachewordidmap()  \n",
    "    logger.info(u\"词与序号对应关系已保存到%s\" % wordidmapfile)  \n",
    "    return dpre,text_id"
   ]
  },
  {
   "cell_type": "code",
   "execution_count": 13,
   "metadata": {
    "collapsed": true
   },
   "outputs": [],
   "source": [
    "def run():  \n",
    "    # 处理文档集，及计算文档数，以及vocabulary词的总个数，以及每个文档的单词序列  \n",
    "    dpre,text_id = preprocessing()  \n",
    "    lda = LDAModel(dpre)  \n",
    "    lda.est(text_id)  "
   ]
  },
  {
   "cell_type": "code",
   "execution_count": 16,
   "metadata": {
    "collapsed": false,
    "scrolled": true
   },
   "outputs": [
    {
     "name": "stderr",
     "output_type": "stream",
     "text": [
      "INFO:LDA module:载入数据......\n",
      "DEBUG:LDA module:载入完成,准备生成字典对象和统计文本数据...\n",
      "INFO:LDA module:共有72793个文档\n",
      "INFO:LDA module:词与序号对应关系已保存到E:\\pythonNotebook\\LDA_model\\in_out\\wordidmap.txt\n",
      "DEBUG:LDA module:计算文章-主题分布\n",
      "DEBUG:LDA module:计算词-主题分布\n",
      "DEBUG:LDA module:计算文章-主题分布\n",
      "DEBUG:LDA module:计算词-主题分布\n",
      "DEBUG:LDA module:计算文章-主题分布\n",
      "DEBUG:LDA module:计算词-主题分布\n",
      "DEBUG:LDA module:计算文章-主题分布\n",
      "DEBUG:LDA module:计算词-主题分布\n",
      "DEBUG:LDA module:计算文章-主题分布\n",
      "DEBUG:LDA module:计算词-主题分布\n",
      "DEBUG:LDA module:计算文章-主题分布\n",
      "DEBUG:LDA module:计算词-主题分布\n",
      "DEBUG:LDA module:计算文章-主题分布\n",
      "DEBUG:LDA module:计算词-主题分布\n",
      "DEBUG:LDA module:计算文章-主题分布\n",
      "DEBUG:LDA module:计算词-主题分布\n",
      "DEBUG:LDA module:计算文章-主题分布\n",
      "DEBUG:LDA module:计算词-主题分布\n",
      "DEBUG:LDA module:计算文章-主题分布\n",
      "DEBUG:LDA module:计算词-主题分布\n",
      "DEBUG:LDA module:计算文章-主题分布\n",
      "DEBUG:LDA module:计算词-主题分布\n",
      "DEBUG:LDA module:计算文章-主题分布\n",
      "DEBUG:LDA module:计算词-主题分布\n",
      "DEBUG:LDA module:计算文章-主题分布\n",
      "DEBUG:LDA module:计算词-主题分布\n",
      "DEBUG:LDA module:计算文章-主题分布\n",
      "DEBUG:LDA module:计算词-主题分布\n",
      "DEBUG:LDA module:计算文章-主题分布\n",
      "DEBUG:LDA module:计算词-主题分布\n",
      "DEBUG:LDA module:计算文章-主题分布\n",
      "DEBUG:LDA module:计算词-主题分布\n",
      "DEBUG:LDA module:计算文章-主题分布\n",
      "DEBUG:LDA module:计算词-主题分布\n",
      "DEBUG:LDA module:计算文章-主题分布\n",
      "DEBUG:LDA module:计算词-主题分布\n",
      "DEBUG:LDA module:计算文章-主题分布\n",
      "DEBUG:LDA module:计算词-主题分布\n",
      "DEBUG:LDA module:计算文章-主题分布\n",
      "DEBUG:LDA module:计算词-主题分布\n",
      "DEBUG:LDA module:计算文章-主题分布\n",
      "DEBUG:LDA module:计算词-主题分布\n",
      "DEBUG:LDA module:计算文章-主题分布\n",
      "DEBUG:LDA module:计算词-主题分布\n",
      "DEBUG:LDA module:计算文章-主题分布\n",
      "DEBUG:LDA module:计算词-主题分布\n",
      "DEBUG:LDA module:计算文章-主题分布\n",
      "DEBUG:LDA module:计算词-主题分布\n",
      "DEBUG:LDA module:计算文章-主题分布\n",
      "DEBUG:LDA module:计算词-主题分布\n",
      "INFO:LDA module:迭代完成。\n",
      "DEBUG:LDA module:保存模型\n",
      "INFO:LDA module:文章-主题分布已保存到E:\\pythonNotebook\\LDA_model\\in_out\\thetafile.txt\n",
      "INFO:LDA module:词-主题分布已保存到E:\\pythonNotebook\\LDA_model\\in_out\\phifile.txt\n",
      "INFO:LDA module:参数设置已保存到E:\\pythonNotebook\\LDA_model\\in_out\\paramfile.txt\n",
      "INFO:LDA module:主题topN词已保存到E:\\pythonNotebook\\LDA_model\\in_out\\topNfile.txt\n",
      "INFO:LDA module:文章-词-主题分派结果已保存到E:\\pythonNotebook\\LDA_model\\in_out\\tassgin.txt\n",
      "INFO:LDA module:模型训练完成。\n"
     ]
    }
   ],
   "source": [
    "if __name__ == '__main__':  \n",
    "#     f1 = open('in_out/topNfile.txt','w','utf-8')\n",
    "#     f1.truncate()\n",
    "#     f1 = open('in_out/paramflie.txt')\n",
    "    run()  "
   ]
  },
  {
   "cell_type": "code",
   "execution_count": null,
   "metadata": {
    "collapsed": true
   },
   "outputs": [],
   "source": []
  }
 ],
 "metadata": {
  "kernelspec": {
   "display_name": "Python 3",
   "language": "python",
   "name": "python3"
  },
  "language_info": {
   "codemirror_mode": {
    "name": "ipython",
    "version": 3
   },
   "file_extension": ".py",
   "mimetype": "text/x-python",
   "name": "python",
   "nbconvert_exporter": "python",
   "pygments_lexer": "ipython3",
   "version": "3.6.0"
  }
 },
 "nbformat": 4,
 "nbformat_minor": 2
}
